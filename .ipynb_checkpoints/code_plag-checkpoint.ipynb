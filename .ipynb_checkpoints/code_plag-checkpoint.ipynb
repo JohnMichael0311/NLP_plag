{
 "cells": [
  {
   "cell_type": "code",
   "execution_count": 2,
   "id": "7fea3866-318e-4e8f-8bb0-149fab52b3a5",
   "metadata": {},
   "outputs": [
    {
     "name": "stdout",
     "output_type": "stream",
     "text": [
      "bottomup.txt vs helper functions.txt: Similarity Score: 0.67\n",
      "Basic merge implementation.txt vs helper functions.txt: Similarity Score: 0.57\n"
     ]
    }
   ],
   "source": [
    "import os\n",
    "import re\n",
    "from sklearn.feature_extraction.text import TfidfVectorizer\n",
    "from sklearn.metrics.pairwise import cosine_similarity\n",
    "\n",
    "# Function to remove comments and import statements from code\n",
    "def preprocess_code(code):\n",
    "    # Remove comments (Python-style: '#' and multiline)\n",
    "    code = re.sub(r'\\'\\'\\'.*?\\'\\'\\'', '', code, flags=re.DOTALL)  # Multiline comments\n",
    "    code = re.sub(r'\\\"\\\"\\\".*?\\\"\\\"\\\"', '', code, flags=re.DOTALL)  # Multiline comments\n",
    "    code = re.sub(r'#.*', '', code)  # Single-line comments\n",
    "    \n",
    "    # Remove import statements\n",
    "    code = re.sub(r'^\\s*(import|from)\\s+[^\\n]+', '', code, flags=re.MULTILINE)\n",
    "    \n",
    "    return code\n",
    "\n",
    "# Collecting all code files in the current directory (assuming they are Python files)\n",
    "student_files = [doc for doc in os.listdir('code_data') if doc.endswith('.txt')]\n",
    "student_code = [preprocess_code(open(os.path.join('code_data', _file), encoding='utf-8', errors='ignore').read())\n",
    "                for _file in student_files]\n",
    "\n",
    "# Function to vectorize the code using TF-IDF\n",
    "def vectorize(Text): \n",
    "    return TfidfVectorizer(token_pattern=r'\\b\\w+\\b').fit_transform(Text).toarray()\n",
    "\n",
    "# Function to calculate cosine similarity between two vectors\n",
    "def similarity(doc1, doc2): \n",
    "    return cosine_similarity([doc1, doc2])\n",
    "\n",
    "# Vectorizing the code files\n",
    "vectors = vectorize(student_code)\n",
    "s_vectors = list(zip(student_files, vectors))\n",
    "plagiarism_results = set()\n",
    "\n",
    "# Function to check for plagiarism with a threshold\n",
    "def check_plagiarism():\n",
    "    for student_a, text_vector_a in s_vectors:\n",
    "        for student_b, text_vector_b in s_vectors:\n",
    "            if student_a != student_b:\n",
    "                sim_score = similarity(text_vector_a, text_vector_b)[0][1]\n",
    "                if sim_score > 0.5:  # Only consider files with similarity score > 0.5\n",
    "                    student_pair = sorted((student_a, student_b))\n",
    "                    score = (student_pair[0], student_pair[1], sim_score)\n",
    "                    plagiarism_results.add(score)\n",
    "    return plagiarism_results\n",
    "\n",
    "# Checking plagiarism and printing the results (only scores > 0.5)\n",
    "for data in check_plagiarism():\n",
    "    print(f'{data[0]} vs {data[1]}: Similarity Score: {data[2]:.2f}')\n"
   ]
  },
  {
   "cell_type": "code",
   "execution_count": 6,
   "id": "270b603b-2932-4b2b-93ca-d4b7189e481f",
   "metadata": {},
   "outputs": [
    {
     "data": {
      "text/plain": [
       "'function mergeSort(arr) {\\n    if (arr.length <= 1) {\\n        return arr;\\n    }\\n\\n    const mid = Math.floor(arr.length / 2);\\n    const left = mergeSort(arr.slice(0, mid));\\n    const right = mergeSort(arr.slice(mid));\\n\\n    return merge(left, right);\\n}\\n\\nfunction merge(left, right) {\\n    let result = [];\\n    let leftIndex = 0;\\n    let rightIndex = 0;\\n\\n    while (leftIndex < left.length && rightIndex < right.length) {\\n        if (left[leftIndex] < right[rightIndex]) {\\n            result.push(left[leftIndex]);\\n            leftIndex++;\\n        } else {\\n            result.push(right[rightIndex]);\\n            rightIndex++;\\n        }\\n    }\\n\\n    return result.concat(left.slice(leftIndex)).concat(right.slice(rightIndex));\\n}\\n\\n// Example usage\\nconsole.log(mergeSort([34, 7, 23, 32, 5, 62]));\\n'"
      ]
     },
     "execution_count": 6,
     "metadata": {},
     "output_type": "execute_result"
    }
   ],
   "source": [
    "preprocess_code('''function mergeSort(arr) {\n",
    "    if (arr.length <= 1) {\n",
    "        return arr;\n",
    "    }\n",
    "\n",
    "    const mid = Math.floor(arr.length / 2);\n",
    "    const left = mergeSort(arr.slice(0, mid));\n",
    "    const right = mergeSort(arr.slice(mid));\n",
    "\n",
    "    return merge(left, right);\n",
    "}\n",
    "\n",
    "function merge(left, right) {\n",
    "    let result = [];\n",
    "    let leftIndex = 0;\n",
    "    let rightIndex = 0;\n",
    "\n",
    "    while (leftIndex < left.length && rightIndex < right.length) {\n",
    "        if (left[leftIndex] < right[rightIndex]) {\n",
    "            result.push(left[leftIndex]);\n",
    "            leftIndex++;\n",
    "        } else {\n",
    "            result.push(right[rightIndex]);\n",
    "            rightIndex++;\n",
    "        }\n",
    "    }\n",
    "\n",
    "    return result.concat(left.slice(leftIndex)).concat(right.slice(rightIndex));\n",
    "}\n",
    "\n",
    "// Example usage\n",
    "console.log(mergeSort([34, 7, 23, 32, 5, 62]));\n",
    "''')\n"
   ]
  },
  {
   "cell_type": "code",
   "execution_count": null,
   "id": "dedb1225-487f-49ef-b787-844fd347857d",
   "metadata": {},
   "outputs": [],
   "source": []
  }
 ],
 "metadata": {
  "kernelspec": {
   "display_name": "Python 3 (ipykernel)",
   "language": "python",
   "name": "python3"
  },
  "language_info": {
   "codemirror_mode": {
    "name": "ipython",
    "version": 3
   },
   "file_extension": ".py",
   "mimetype": "text/x-python",
   "name": "python",
   "nbconvert_exporter": "python",
   "pygments_lexer": "ipython3",
   "version": "3.11.5"
  }
 },
 "nbformat": 4,
 "nbformat_minor": 5
}
